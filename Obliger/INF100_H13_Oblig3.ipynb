{
 "metadata": {
  "name": ""
 },
 "nbformat": 3,
 "nbformat_minor": 0,
 "worksheets": [
  {
   "cells": [
    {
     "cell_type": "heading",
     "level": 1,
     "metadata": {},
     "source": [
      "INF100: Obligatorisk innlevering nr 3"
     ]
    },
    {
     "cell_type": "markdown",
     "metadata": {},
     "source": [
      "### Prinsipper ###\n",
      "1. Dette er den andre av seks obligatoriske innleveringer i l\u00f8pet av semesteret. \n",
      "1. Hver innlevering vil best\u00e5 av tre oppgaver, i alt alts\u00e5 18 oppgaver.\n",
      "1. I tillegg kan det v\u00e6re mer krevende bonusoppgaver for deg som \u00f8nsker en utfordring. Bonusoppgavene krever kunnskap utover det som ble gjennomg\u00e5tt i forelesningene og skal stimulere deg til \u00e5 l\u00e6re deg mer om programmering p\u00e5 egenh\u00e5nd. Godkjennte bonusoppgaver teller som vanlige oppgaver.\n",
      "1. **Minst 14 av 18 oppgaver m\u00e5 v\u00e6re godkjent** for at du skal kunne g\u00e5 opp til eksamen.\n",
      "1. Innleveringen vil bli vurdert som den er n\u00e5r innleveringsfristen g\u00e5r ut. Du kan ikke levere om.\n",
      "1. \u00c5 levere andres arbeid som ditt eget er fusk og vil bli anmeldt.\n",
      "\n",
      "### Besvarelse og innlevering ###\n",
      "1. Alle svar skal f\u00f8res i denne Notebooken.\n",
      "1. **F\u00f8r du begynner, klikk p\u00e5 navnet p\u00e5 toppen av skjermen og endre den fra `INF100_H13_Oblig3` til `INF100_H13_Oblig3_Fornavn_Etternavn`, f eks `INF100_H13_Oblig3_Kari_Nordmann`**\n",
      "1. **NB: Der er viktig at navnet til Notebooken din er bygget opp presist som vist ovenfor!**\n",
      "1. F\u00f8r navnet ditt og epostadressen din i feltene under!\n",
      "1. N\u00e5r du har besvart oppgavene, lagre Notebooken. Du vil da finne filen `INF100_H13_Oblig2_Fornavn_Etternavn.ipynb` i din Python mappe (evt kan du laste ned med `File > Download as > IPython`. Denne filen (og bare den) skal **lastes opp til oppgavesiden p\u00e5 Fronter** som besvarelse.\n",
      "\n",
      "### Innleveringsfrist: Fredag, 18. oktober 2013, kl 12.00"
     ]
    },
    {
     "cell_type": "markdown",
     "metadata": {},
     "source": [
      "----------------\n",
      "## Navn og epost ##\n",
      "Skriv inn navnet og epostadressen din i feltene under. **Uten dette vil du ikke f\u00e5 godskrevet innleveringen!**\n",
      "\n",
      "Navn og epostadressen skal settes i hermetegn, alst\u00e5\n",
      "\n",
      "    __author__ = \"Kari Nordmann\"\n",
      "    __epost__ = \"kari.nordmann@student.umb.no\""
     ]
    },
    {
     "cell_type": "code",
     "collapsed": false,
     "input": [
      "__author__ = \"\"\n",
      "__epost__ = \"\""
     ],
     "language": "python",
     "metadata": {},
     "outputs": [],
     "prompt_number": 1
    },
    {
     "cell_type": "markdown",
     "metadata": {},
     "source": [
      "* * *\n",
      "## Oppgave 7: En streng med tegneanvisninger ##\n",
      "\n",
      "I denne oppgaven skal du skrive Python kode som styrer skilpadden i henhold til instruksjoner gitt som en streng, alts\u00e5 en sekvens av bokstaver. Instruksjonen kunne f eks v\u00e6re `'flfrf'`, der `f` st\u00e5r for \"g\u00e5 20 fremover\", `l` for \"snu 90 til venstre\" og `r` \"snu 90 til h\u00f8yre\".\n",
      "\n",
      "Som et eksempel p\u00e5 hvordan denne oppgaven kan l\u00f8ses, viser den neste cellen Python kode som skriver ut noen symboler p\u00e5 skjerm iht instruksjoner. Her st\u00e5r `s` for 5 stjerner, `n` for ny linje og `p` for 4 prikker:"
     ]
    },
    {
     "cell_type": "code",
     "collapsed": false,
     "input": [
      "innstruks = 'spsnpspnsps'\n",
      "\n",
      "for tegn in innstruks:\n",
      "    if tegn == 's':\n",
      "        print '*****',  # komma p\u00e5 slutten hindrer ny linje\n",
      "    if tegn == 'p':\n",
      "        print '.....',  # komma p\u00e5 slutten hindrer ny linje\n",
      "    if tegn == 'n':\n",
      "        print           # ny linje"
     ],
     "language": "python",
     "metadata": {},
     "outputs": [
      {
       "output_type": "stream",
       "stream": "stdout",
       "text": [
        "***** ..... *****\n",
        "..... ***** .....\n",
        "***** ..... *****\n"
       ]
      }
     ],
     "prompt_number": 3
    },
    {
     "cell_type": "markdown",
     "metadata": {},
     "source": [
      "### R\u00e5d\n",
      "- Ta utgangspunkt i koden over\n",
      "- Tilpass kodesymbolene til koden du vil bruke\n",
      "- Bytt ut `print` kommandoene med anvisningene til skilpadden\n",
      "- Du kan gjerne bruke flere enn tre kodesymboler for \u00e5 kode flere kommandoer\n",
      "- NB: Ingen rekursjon i denne oppgaven!"
     ]
    },
    {
     "cell_type": "code",
     "collapsed": false,
     "input": [
      "import turtle\n",
      "\n",
      "innstruks = ''    # sett innstruksen mellom hermetegnene\n",
      "\n",
      "# din kode kommer her"
     ],
     "language": "python",
     "metadata": {},
     "outputs": [],
     "prompt_number": 4
    },
    {
     "cell_type": "markdown",
     "metadata": {},
     "source": [
      "* * *\n",
      "## Oppgave 8: Sekskantspiral ##\n",
      "\n",
      "Du skal skrive Python kode som tegner grafikken nedenfor. Grafikken er bygget opp som f\u00f8lgende:\n",
      "\n",
      "- Den best\u00e5r av i alt 20 sekskanter\n",
      "- Den innerste sekskanten har sidelengde 10\n",
      "- Sidenlengden til hver sekskant er 10 st\u00f8rre enn den til nest mindre sekskant\n",
      "- Hver sekskant er snudd med 13 grader mot den forang\u00e5ende sekskanten\n",
      "\n",
      "### R\u00e5d\n",
      "- Bruk l\u00f8kker!\n",
      "- Det er mulig \u00e5 l\u00f8se oppgaven med bare seks linjer kode."
     ]
    },
    {
     "cell_type": "code",
     "collapsed": false,
     "input": [
      "# Din kode kommer her"
     ],
     "language": "python",
     "metadata": {},
     "outputs": [],
     "prompt_number": 15
    },
    {
     "cell_type": "markdown",
     "metadata": {},
     "source": [
      "* * *\n",
      "## Oppgave 9: Grafikk ##\n",
      "\n",
      "Koden i den neste cellen tegner to funksjoner. Du skal forbedre koden slik at \n",
      "\n",
      "- kurvene tegnes med nok datapunkter til \u00e5 gi et godt bilde av funksjonene\n",
      "- grafikken f\u00e5r en legende som identifiserer kurvene\n",
      "- grensene p\u00e5 x- og y-aksene er fornuftig\n",
      "- aksene er merket\n",
      "- grafikken har en tittel"
     ]
    },
    {
     "cell_type": "code",
     "collapsed": false,
     "input": [
      "# Arbeide i denne cellen!\n",
      "\n",
      "x = linspace(0, 2*pi)\n",
      "y = sin(x)*sin(x)\n",
      "z = sin(x*x)\n",
      "plot(x, y);\n",
      "plot(x, z);"
     ],
     "language": "python",
     "metadata": {},
     "outputs": [
      {
       "metadata": {},
       "output_type": "display_data",
       "png": "[encoded data removed]",
       "text": [
        "<matplotlib.figure.Figure at 0x10684a050>"
       ]
      }
     ],
     "prompt_number": 20
    },
    {
     "cell_type": "markdown",
     "metadata": {},
     "source": [
      "* * *\n",
      "## Bonusoppgave 3 ##\n",
      "\n",
      "I denne oppgaven skal vi videref\u00f8re oppgave 7, dvs tegning basert p\u00e5 strenger. I Python finnes noe som heter *dictionary* og som gir oss mulighet for \u00e5 lagre ting under navn og sl\u00e5 de opp igjen. De ting vi kan lagre inkluderer funksjoner, f eks"
     ]
    },
    {
     "cell_type": "code",
     "collapsed": false,
     "input": [
      "def stjerner():\n",
      "    print '*****',\n",
      "    \n",
      "def prikker():\n",
      "    print '.....',\n",
      "    \n",
      "def linjeskift():\n",
      "    print\n",
      "    \n",
      "operasjoner = {'s': stjerner, 'p': prikker, 'n': linjeskift}"
     ],
     "language": "python",
     "metadata": {},
     "outputs": [],
     "prompt_number": 28
    },
    {
     "cell_type": "markdown",
     "metadata": {},
     "source": [
      "Vi kan n\u00e5 utf\u00f8re operasjoner ved \u00e5 sl\u00e5 opp i \"boken\" og utf\u00f8re funksjonene vi finner der:"
     ]
    },
    {
     "cell_type": "code",
     "collapsed": false,
     "input": [
      "operasjoner['s']()"
     ],
     "language": "python",
     "metadata": {},
     "outputs": [
      {
       "output_type": "stream",
       "stream": "stdout",
       "text": [
        "*****\n"
       ]
      }
     ],
     "prompt_number": 29
    },
    {
     "cell_type": "code",
     "collapsed": false,
     "input": [
      "operasjoner['p']()"
     ],
     "language": "python",
     "metadata": {},
     "outputs": [
      {
       "output_type": "stream",
       "stream": "stdout",
       "text": [
        ".....\n"
       ]
      }
     ],
     "prompt_number": 30
    },
    {
     "cell_type": "markdown",
     "metadata": {},
     "source": [
      "Da reduseres l\u00f8kken fra oppgave 7 til"
     ]
    },
    {
     "cell_type": "code",
     "collapsed": false,
     "input": [
      "innstruks = 'spsnpspnsps'\n",
      "for tegn in innstruks:\n",
      "    operasjoner[tegn]()"
     ],
     "language": "python",
     "metadata": {},
     "outputs": [
      {
       "output_type": "stream",
       "stream": "stdout",
       "text": [
        "***** ..... *****\n",
        "..... ***** .....\n",
        "***** ..... *****\n"
       ]
      }
     ],
     "prompt_number": 31
    },
    {
     "cell_type": "markdown",
     "metadata": {},
     "source": [
      "Du skal i denne oppgaven benytte den id\u00e9en til \u00e5 implementere et Lindenmeyer-System, gjerne sn\u00f8fnuggen. Den lange `else` delen i `snowflake()` funksjonen, som implementerer regelen, krymper da til en liten for-l\u00f8kke som i eksemplet ovenfor.\n",
      "\n",
      "### R\u00e5d\n",
      "- Du m\u00e5 definere en funksjon per operasjon, dvs `F`, `+` og `-`. \n",
      "- Funksjonene for `+` og `-` tregner ikke `depth` informasjon, men `F` gj\u00f8r det. Siden alle funksjoner skal kalles p\u00e5 samme m\u00e5te, m\u00e5 ogs\u00e5 `+` og `-` funksjoner kunne ta imot `depth`, selv om de ignorerer denne informasjonen."
     ]
    },
    {
     "cell_type": "code",
     "collapsed": false,
     "input": [
      "# Legg inn din kode her"
     ],
     "language": "python",
     "metadata": {},
     "outputs": [],
     "prompt_number": 23
    }
   ],
   "metadata": {}
  }
 ]
}