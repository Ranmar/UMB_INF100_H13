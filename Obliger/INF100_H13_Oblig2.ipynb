{
 "metadata": {
  "name": ""
 },
 "nbformat": 3,
 "nbformat_minor": 0,
 "worksheets": [
  {
   "cells": [
    {
     "cell_type": "heading",
     "level": 1,
     "metadata": {},
     "source": [
      "INF100: Obligatorisk innlevering nr 2"
     ]
    },
    {
     "cell_type": "markdown",
     "metadata": {},
     "source": [
      "### Prinsipper ###\n",
      "1. Dette er den f\u00f8rste av seks obligatoriske innleveringer i l\u00f8pet av semesteret. \n",
      "1. Hver innlevering vil best\u00e5 av tre oppgaver, i alt alts\u00e5 18 oppgaver.\n",
      "1. I tillegg kan det v\u00e6re mer krevende bonusoppgaver for deg som \u00f8nsker en utfordring. Bonusoppgavene krever kunnskap utover det som ble gjennomg\u00e5tt i forelesningene og skal stimulere deg til \u00e5 l\u00e6re deg mer om programmering p\u00e5 egenh\u00e5nd. Godkjennte bonusoppgaver teller som vanlige oppgaver.\n",
      "1. **Minst 14 av 18 oppgaver m\u00e5 v\u00e6re godkjent** for at du skal kunne g\u00e5 opp til eksamen.\n",
      "1. Innleveringen vil bli vurdert som den er n\u00e5r innleveringsfristen g\u00e5r ut. Du kan ikke levere om.\n",
      "1. \u00c5 levere andres arbeid som ditt eget er fusk og vil bli anmeldt.\n",
      "\n",
      "### Besvarelse og innlevering ###\n",
      "1. Alle svar skal f\u00f8res i denne Notebooken.\n",
      "1. F\u00f8r du begynner, klikk p\u00e5 navnet p\u00e5 toppen av skjermen og endre den fra `INF100_H13_Oblig2` til `INF100_H13_Oblig2_Fornavn_Etternavn`, f eks `INF100_H13_Oblig2_Kari_Nordmann`\n",
      "1. F\u00f8r navnet ditt og epostadressen din i feltene under!\n",
      "1. N\u00e5r du har besvart oppgavene, lagre Notebooken. Du vil da finne filen `INF100_H13_Oblig2_Fornavn_Etternavn.ipynb` i din Python mappe (evt kan du laste ned med `File > Download as > IPython`. Denne filen (og bare den) skal **lastes opp til oppgavesiden p\u00e5 Fronter** som besvarelse.\n",
      "\n",
      "### Innleveringsfrist: Fredag, 4. oktober 2013, kl 12.00"
     ]
    },
    {
     "cell_type": "markdown",
     "metadata": {},
     "source": [
      "----------------\n",
      "## Navn og epost ##\n",
      "Skriv inn navnet og epostadressen din i feltene under. **Uten dette vil du ikke f\u00e5 godskrevet innleveringen!**"
     ]
    },
    {
     "cell_type": "code",
     "collapsed": false,
     "input": [
      "__author__ = \"\"\n",
      "__epost__ = \"\""
     ],
     "language": "python",
     "metadata": {},
     "outputs": [],
     "prompt_number": 1
    },
    {
     "cell_type": "markdown",
     "metadata": {},
     "source": [
      "* * *\n",
      "## Oppgave 4: Tegning av hele sn\u00f8fnugg ##\n",
      "\n",
      "`snowflake()` funksjonen som vi gjennomgikk i forelesningen 19. september tegner bare en side av en sn\u00f8fnugg. Skriv en funksjon `complete_snowflake()` som benytter `snowflake()` funksjonen til \u00e5 tegne en hel sn\u00f8fnugg som i dette bildet:"
     ]
    },
    {
     "cell_type": "code",
     "collapsed": false,
     "input": [
      "from IPython.display import Image ; Image(filename='Figures/O2_Snowflake.png')"
     ],
     "language": "python",
     "metadata": {},
     "outputs": [
      {
       "metadata": {},
       "output_type": "pyout",
       "png": "[encoded data removed]",
       "prompt_number": 3,
       "text": [
        "<IPython.core.display.Image at 0x105d64f50>"
       ]
      }
     ],
     "prompt_number": 3
    },
    {
     "cell_type": "markdown",
     "metadata": {},
     "source": [
      "### R\u00e5d\n",
      "1. Begynn med \u00e5 kopiere koden for `snowflake()` funksjonen fra Notebooken for forelesningen inn i cellen under. Du kan gjerne benytte koden i din besvarelse, men legg til en liten kommentar som oppgir kilden.\n",
      "1. Kj\u00f8r `snowflake()` funksjonen en gang for \u00e5 v\u00e6re trygg p\u00e5 at den fungerer i denne Notebooken (husk \u00e5 opprette en padde f\u00f8rst!)\n",
      "1. Pr\u00f8v deg fram til hvordan du tegner en hel sn\u00f8fnugg ved \u00e5 kj\u00f8re `snowflake()` flere ganger med passende rotasjon av padden innimellom.\n",
      "1. N\u00e5r du vet hvordan du skal tegne sn\u00f8fnuggen, sett alt sammen i en funksjon og pr\u00f8v \u00e5 gj\u00f8re den \u00e5 kompakt som mulig (stikkord: l\u00f8kke)."
     ]
    },
    {
     "cell_type": "code",
     "collapsed": false,
     "input": [
      "# Legg inn koden her"
     ],
     "language": "python",
     "metadata": {},
     "outputs": []
    },
    {
     "cell_type": "markdown",
     "metadata": {},
     "source": [
      "* * *\n",
      "## Oppgave 5: Fleksible sn\u00f8fnugg ##\n",
      "\n",
      "`snowflake()` funksjonen fra forelesningen og den forrige oppgaven har fast innebygget sidelengde. Det gj\u00f8r funksjonen lite fleksibelt: ved lav rekursjonsdybde blir kurven sv\u00e6rt liten, ved stor rekursjonsdybde alt for stor. Lag en ny funksjon `snowflake_flex()` som mottar sidelengenden som et argument, slik at vi kan f eks benytte den slik (jeg forutsetter at `sam` finnes)\n",
      "\n",
      "    snowflake_flex(sam, 3, 20)\n",
      "    snowflake_flex(sam, 5, 5)\n",
      "    \n",
      "Den f\u00f8rste kj\u00f8ringen skal tegne en sn\u00f8fnugg med rekursjonsdybde 3 og sidelengde 20, den andre en med dybde 5 og sidelengde 5. Lag i tillegg `complete_snowflake_flex()` som tegner en hel sn\u00f8fnugg ved hjelp av `snowflake_flex()`, p\u00e5 samme m\u00e5te som `complete_snowflake()` benytter `snowflake()` i Oppgave 4.\n",
      "\n",
      "### R\u00e5d \n",
      "1. Du kan benytte koden til `snowflake()` som utgangspunkt.\n",
      "1. Se p\u00e5 hvordan vi gjorde `kvadrat()` funksjonen fleksibelt."
     ]
    },
    {
     "cell_type": "code",
     "collapsed": false,
     "input": [
      "# Legg inn koden her"
     ],
     "language": "python",
     "metadata": {},
     "outputs": [],
     "prompt_number": 3
    },
    {
     "cell_type": "markdown",
     "metadata": {},
     "source": [
      "* * *\n",
      "## Oppgave 6: Heighway Dragon ##\n",
      "\n",
      "[Heighway Dragon](http://en.wikipedia.org/wiki/Dragon_curve) er en variant av dragekurven som ble bl a brukt som pynt i boken *Jurassic Parc*.\n",
      "Den er ganske likt dragekurven vi s\u00e5 p\u00e5 i forelesningen, men produksjonsreglene er litt annerledes:\n",
      "\n",
      "|Variabler|Konstanter|Vinkel|Start|Produksjonsregler|\n",
      "|-|-|-|-|-|\n",
      "|$X, Y$|$F, +, -$|$90^{\\circ}$|$FX$|$$\\begin{align}X&\\rightarrow X+YF+\\\\Y &\\rightarrow -FX-Y\\end{align}$$|\n",
      "\n",
      "Du skal gj\u00f8re f\u00f8lgende:\n",
      "1. Lage funksjoner `hwdragon()`, `hwdragonX()` og `hwdragonY()` som tegner en Heighway dragon.\n",
      "1. Gir padden `color()` kommandoer, slik at hver av de tre funksjonene tegner linjer i forskjellig farge.\n",
      "\n",
      "### R\u00e5d\n",
      "1. Start med \u00e5 kopiere og teste dragekurvefunksjonene fra forelesningen 19.09. Husk \u00e5 legge til en kommentar om opphavet.\n",
      "1. Forandre funksjonene iht de nye produksjonsreglene.\n",
      "1. Legg til fargekommandoene."
     ]
    },
    {
     "cell_type": "code",
     "collapsed": false,
     "input": [
      "# Legg inn koden her"
     ],
     "language": "python",
     "metadata": {},
     "outputs": [],
     "prompt_number": 4
    },
    {
     "cell_type": "markdown",
     "metadata": {},
     "source": [
      "* * *\n",
      "## Bonusoppgave 2 ##\n",
      "\n",
      "Man kan generere *fraktale planter* ved hjelp av L-systemer. Plantene kan se noks\u00e5 realistiske ut og dette utnyttes til dels til \u00e5 lage planter i datagrafikker eller animasjoner. Du skal skrive de n\u00f8dvendige funksjonene for \u00e5 generere fraktale planter etter det f\u00f8lgende L-systemet (se [Wikipedia](http://en.wikipedia.org/wiki/Lindenmayer_system#Example_7:_Fractal_plant)):\n",
      "\n",
      "|Variabler|Konstanter|Vinkel|Start|Produksjonsregler|\n",
      "|-|-|-|-|-|\n",
      "|$X, F$|$+, -$|$25^{\\circ}$|$X$|$$\n",
      "\\begin{align}\n",
      "X&\\rightarrow F - [[X]+X]+F[+FX]-X \\\\\n",
      "F&\\rightarrow FF\\end{align}$$|\n",
      "\n",
      "- $F$ st\u00e5r for \"g\u00e5 fremover\", $+$ og $-$ for dreining mot hhv venstre og h\u00f8yre\n",
      "- $X$ er bare en variable, ingen tegneoperasjon er knyttet til den\n",
      "- $[$ betyr: merk deg aktuell posisjon og aktuell retning\n",
      "- $]$ betyr: sett padden tilbake til posisjonen og retningen du merket deg ved tilh\u00f8rende $[$\n",
      "- eksperimenter gjerne med linjetykkelse og fargelegging"
     ]
    },
    {
     "cell_type": "code",
     "collapsed": false,
     "input": [
      "# Legg inn koden her"
     ],
     "language": "python",
     "metadata": {},
     "outputs": [],
     "prompt_number": 6
    }
   ],
   "metadata": {}
  }
 ]
}