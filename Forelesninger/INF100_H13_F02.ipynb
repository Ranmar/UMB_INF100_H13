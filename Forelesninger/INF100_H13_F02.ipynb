{
 "metadata": {
  "name": ""
 },
 "nbformat": 3,
 "nbformat_minor": 0,
 "worksheets": [
  {
   "cells": [
    {
     "cell_type": "markdown",
     "metadata": {},
     "source": [
      "# INF100: Forelesning nr 2 #\n",
      "### 12. september 2013 (oppdatert etter forelesningen) ###\n",
      "\n",
      "* * *\n",
      "\n",
      "## Ny nettside for kurset ##\n",
      "\n",
      "- Alt kursmateriale blir lagt ut p\u00e5 kursets nye nettsider\n",
      "    - [Arkiv med alt materiale](https://github.com/heplesser/UMB_INF100_H13)\n",
      "    - [Oversiktsside med lenker til NBViewer](http://heplesser.github.io/UMB_INF100_H13)\n",
      "- Frontersiden brukes bare til innlevering av obligatoriske oppgaver\n",
      "- Nedlasting av IPython Notebooks fra forelesningene:\n",
      "    - G\u00e5 til [Forelesningsmappen i arkivet](https://github.com/heplesser/UMB_INF100_H13/tree/master/Forelesninger)\n",
      "    - Klikk p\u00e5 `*.ipynb` filen\n",
      "    - Klikk p\u00e5 \"R\u00e5w\" tab\n",
      "    - Velg `Fil > Lagre som ...` eller h\u00f8yre-klikk og velg `Lagre som ...`\n",
      "    - **NB: Windows**\n",
      "        - Bruk Firefox, evt Chrome eller Opera til nedlasting, ikke Internet Explorer\n",
      "        - I nedlastingsvinduet, velg \"Alle filer\" fra rullegardinen for valg av filtyper\n",
      "        - Pass p\u00e5 at filen lagres med ending `.ipynb`, systemet vil evt henge en `.txt` p\u00e5\n",
      "    - Lagre filen i din Python-mappe\n",
      "- Nedlasting av IPython Notebooks til obligatoriske oppgaver:\n",
      "    - Lastes ned p\u00e5 samme m\u00e5te fra [Obligermappen i arkivet](https://github.com/heplesser/UMB_INF100_H13/tree/master/Obliger)\n",
      "- Se \"Issues\" p\u00e5 kurssiden for sp\u00f8rsm\u00e5l og svar (se b\u00e5de \"open\"==ubesvart og \"closed\"==besvart)\n",
      "- Hvis du har bruker p\u00e5 [GitHub](http://github.com), kan du\n",
      "    - selv stille nye sp\u00f8rsm\u00e5l under \"Issues\" (NB: synlig p\u00e5 hele internett)\n",
      "    - f\u00f8lge kurssiden (\"watch\"), slik at du f\u00e5r epost n\u00e5r nytt materiale legges ut\n",
      "    \n",
      "## \u00d8vinger ##\n",
      "\n",
      "- Gruppe 6 (onsdag 10-12) lagt ned pga manglende ettersp\u00f8rsel\n",
      "- Gruppe 2 (mandag 12-14) i S120 har ledige plasser\n",
      "- Orakteltjeneste mandag-fredag 08-10 i TF-kantina\n",
      "- De som meldte seg p\u00e5 innen fristen har prioritet i \u00f8vingsgruppene hvis det blir trangt om plassene\n",
      "\n",
      "## Programvareinstallasjon ##\n",
      "\n",
      "- Har det g\u00e5tt bra?\n",
      "- Noen som trenger hjelp til \u00e5 komme i gang?\n",
      "\n",
      "* * *"
     ]
    },
    {
     "cell_type": "heading",
     "level": 2,
     "metadata": {},
     "source": [
      "Litt om IPython Notebook"
     ]
    },
    {
     "cell_type": "markdown",
     "metadata": {},
     "source": [
      "1. N\u00e5r du starter opp ipython med\n",
      "        ipython notebook --pylab=inline\n",
      "   - startes det en ipython server som g\u00e5r bak kulissene \n",
      "   - serveren er tilgjengelig som en webserver p\u00e5 lokal maskin\n",
      "   - en nettleser kobler seg automatisk mot serveren og viser IPython Dashbord\n",
      "   - dashbordet viser alle IPython Notebooks (`*.ipynb` filer) som ligger i mappen der du started IPython\n",
      "   - derfor b\u00f8r du starte IPython fra din `INF100/Python` mappe\n",
      "   - **NB: Windows**\n",
      "       - Internet Explorer fungerer ikke godt med notebooks, i alle fall ikke p\u00e5 datasalen\n",
      "       - Firefox og Safari fungerer, jeg har ikke testet Chrome eller Opera\n",
      "       - Hvis du starter ipython slik p\u00e5 datasalen\n",
      "             i:\\anaconda\\scripts\\ipython notebook --pylab=inline --no-browser\n",
      "         \u00e5pens ikke noe nettleservindu. Det vises bare litt informasjon om at \n",
      "             The IPython Notebook is running at: http://127.0.0.1:8888/\n",
      "         Start Firefox for h\u00e5nd og sl\u00e5 inn nettadressen som vises i \"IPython Notebook is running\" linjen.\n",
      "1. Arbeid med Notebooks\n",
      "   - dobbelklikk p\u00e5 en celle for \u00e5 redigere den\n",
      "   - Shift-Enter g\u00e5r videre til neste celle (utf\u00f8rer koden i kodeceller)\n",
      "   - Ctrl-Enter kj\u00f8rer koden og blir st\u00e5ende i samme celle\n",
      "   - velg celletype (code, markdown (=tekst), heading) i rullegardin p\u00e5 toppen\n",
      "   - bruk \"Insert\" for \u00e5 legge til flere celler\n",
      "   - se Help > Keyboard Shortcuts for \u00e5 se hvordan du kan spare mange mus-mil\n",
      "1. Lagring av Notebooks\n",
      "   - for \u00e5 endre navnet, klikk p\u00e5 navnet helt p\u00e5 toppen, ved siden av \"IP[y]: Notebook\"\n",
      "   - for \u00e5 lagre, klikk p\u00e5 diskettsymbolet eller velg File > Save and Checkpoint\n",
      "   - filene lagres i oppstartmappen\n",
      "1. Avsluting\n",
      "   - lagre f\u00f8rst\n",
      "   - velg File > Close and halt\n",
      "   - lukk dashbord-vinduet i nettlesern\n",
      "   - trykk Ctrl-C i vinduet der du startet serveren eller lukk det vinduet\n",
      "1. Mer informasjon\n",
      "   - se help over\n",
      "   - [IPython Notebook nettside](http://ipython.org/notebook.html)\n",
      "   \n",
      "* * *"
     ]
    },
    {
     "cell_type": "heading",
     "level": 1,
     "metadata": {},
     "source": [
      "Programmering: Organisering og kontroll"
     ]
    },
    {
     "cell_type": "markdown",
     "metadata": {},
     "source": [
      "## Grunntanker ##\n",
      "\n",
      "- Vi \u00f8nsker \u00e5 l\u00f8se komplekse oppgaver\n",
      "    - Vi m\u00e5 ofte l\u00f8se repeterende oppgaver\n",
      "    - Vi m\u00e5 gj\u00f8re enten det ene (ta frem skiene) eller det andre (ta frem badebuksen)\n",
      "    - Vi m\u00e5 dele opp og delegere deloppgaver\n",
      "- Programmering handler i stor grad om\n",
      "    - gjentakelse\n",
      "    - valg mellom alternativer\n",
      "    - delegering\n",
      "- I tillegg kommer forvaltning av data\n",
      "- Vi skal n\u00e5 se p\u00e5 gjentakelse, valg og delegering\n",
      "\n",
      "## Do it again, Sam! ##\n",
      "\n",
      "- **Oppgave:** Tegn to kvadrater ved siden av hverandre.\n",
      "- Sp\u00f8rsm\u00e5l: Er oppgavestillingen komplett?"
     ]
    },
    {
     "cell_type": "code",
     "collapsed": false,
     "input": [
      "import turtle\n",
      "sam = turtle.Turtle()\n",
      "\n",
      "# kvadrat nummer en\n",
      "sam.forward(100)\n",
      "sam.left(90)\n",
      "sam.forward(100)\n",
      "sam.left(90)\n",
      "sam.forward(100)\n",
      "sam.left(90)\n",
      "sam.forward(100)\n",
      "sam.left(90)\n",
      "\n",
      "# flytt til start for neste kvadrat\n",
      "sam.up()\n",
      "sam.forward(150)\n",
      "sam.down()\n",
      "\n",
      "# kvadrat nummer to\n",
      "sam.forward(100)\n",
      "sam.left(90)\n",
      "sam.forward(100)\n",
      "sam.left(90)\n",
      "sam.forward(100)\n",
      "sam.left(90)\n",
      "sam.forward(100)\n",
      "sam.left(90)"
     ],
     "language": "python",
     "metadata": {},
     "outputs": [],
     "prompt_number": 1
    },
    {
     "cell_type": "markdown",
     "metadata": {},
     "source": [
      "### Analyse ###\n",
      "- To ganger samme kode (og litt eksta i midten)\n",
      "- For hvert kvadrat: fire ganger de samme to kodelinjene\n",
      "- Kan vi forkorte koden?\n",
      "- Unng\u00e5 \u00e5 ha samme koden flere ganger?\n",
      "- Gj\u00f8re koden mer fleksibelt?\n",
      "\n",
      "### F\u00f8rste skritt: forenkle tegning av et enkelt kvadrat ###\n",
      "\n",
      "- Vi **gjentar** samme operasjon ganger\n",
      "- Hva n\u00f8yaktig gjentar vi?\n",
      "- Hvor ofte gjentar vi det?\n",
      "\n",
      "#### Gjentakelse i Python: for l\u00f8kke ####\n",
      "\n",
      "- **L\u00f8kker** brukes i de fleste programmeringsspr\u00e5k for \u00e5 h\u00e5ndtere repeterende oppgaver\n",
      "- En **`for` l\u00f8kke** i Python utf\u00f8res et gitt antall ganger"
     ]
    },
    {
     "cell_type": "code",
     "collapsed": false,
     "input": [
      "sam.reset()\n",
      "for sider_som_er_tegnet in [0, 1, 2, 3]:\n",
      "    sam.forward(100)\n",
      "    sam.left(90)"
     ],
     "language": "python",
     "metadata": {},
     "outputs": [],
     "prompt_number": 2
    },
    {
     "cell_type": "markdown",
     "metadata": {},
     "source": [
      "#### Hva skjer her? ####\n",
      "\n",
      "- Den f\u00f8rste linjen innleder `for` l\u00f8kken \n",
      "- De siste to linjene er l\u00f8kkens *kropp*. Disse linjene blir utf\u00f8rt gjentattet ganger.\n",
      "- **OBS**: Linjene i kroppen m\u00e5 v\u00e6re innrykket like langt alle sammen!\n",
      "- `[0, 1, 2, 3]` er en *liste*, som inneholder fire tall\n",
      "- Linjene i l\u00f8kken utf\u00f8res en gang for hvert tall i listen\n",
      "- For hver gjennomgang lagres det aktuelle tallet i `sider_som_er_tegnet`\n",
      "- `sider_som_er_tegnet` er *l\u00f8kkevariablen* eller *telleren*\n",
      "- I Python (og mange andre spr\u00e5k) er det vanlig \u00e5 starte slike lister i l\u00f8kker med 0\n",
      "- Tallet viser da hvor mange sider som er tegnet *f\u00f8r* koden i l\u00f8kken utf\u00f8res\n",
      "- Vi kan bruke `sider_som_er_tegnet` i l\u00f8kken"
     ]
    },
    {
     "cell_type": "code",
     "collapsed": false,
     "input": [
      "sam.reset()\n",
      "for sider_som_er_tegnet in [0, 1, 2, 3]:\n",
      "    print 'Tegnet hittil: ', sider_som_er_tegnet\n",
      "    sam.forward(100)\n",
      "    sam.left(90)"
     ],
     "language": "python",
     "metadata": {},
     "outputs": [
      {
       "output_type": "stream",
       "stream": "stdout",
       "text": [
        "Tegnet hittil:  0\n",
        "Tegnet hittil: "
       ]
      },
      {
       "output_type": "stream",
       "stream": "stdout",
       "text": [
        " 1\n",
        "Tegnet hittil: "
       ]
      },
      {
       "output_type": "stream",
       "stream": "stdout",
       "text": [
        " 2\n",
        "Tegnet hittil: "
       ]
      },
      {
       "output_type": "stream",
       "stream": "stdout",
       "text": [
        " 3\n"
       ]
      }
     ],
     "prompt_number": 3
    },
    {
     "cell_type": "markdown",
     "metadata": {},
     "source": [
      "- Vi kan til og med bruke tallet for \u00e5 sette tykkelsen p\u00e5 streken"
     ]
    },
    {
     "cell_type": "code",
     "collapsed": false,
     "input": [
      "sam.reset()\n",
      "sam.speed('slowest')\n",
      "for sider_som_er_tegnet in [0, 1, 2, 3]:\n",
      "    print 'Tegnet hittil: ', sider_som_er_tegnet\n",
      "    sam.width(1 + 5 * sider_som_er_tegnet)\n",
      "    sam.forward(100)\n",
      "    sam.left(90)"
     ],
     "language": "python",
     "metadata": {},
     "outputs": [
      {
       "output_type": "stream",
       "stream": "stdout",
       "text": [
        "Tegnet hittil:  0\n",
        "Tegnet hittil: "
       ]
      },
      {
       "output_type": "stream",
       "stream": "stdout",
       "text": [
        " 1\n",
        "Tegnet hittil: "
       ]
      },
      {
       "output_type": "stream",
       "stream": "stdout",
       "text": [
        " 2\n",
        "Tegnet hittil: "
       ]
      },
      {
       "output_type": "stream",
       "stream": "stdout",
       "text": [
        " 3\n"
       ]
      }
     ],
     "prompt_number": 4
    },
    {
     "cell_type": "markdown",
     "metadata": {},
     "source": [
      "#### Aktivitet\n",
      "Sett dere to-og-to sammen. En styrer l\u00f8kken (holder oversikt over `sider_som_er_tegnet`), den andre tegner p\u00e5 papir. Skriv ned tallene og strektykkelsene for hver gang gjennom l\u00f8kken."
     ]
    },
    {
     "cell_type": "markdown",
     "metadata": {},
     "source": [
      "#### Ytterlige forenkling ####\n",
      "\n",
      "- Python kan lage lister for oss\n",
      "        range(n)\n",
      "  gir listen\n",
      "        [0, 1, 2, ..., n-1]\n",
      "  alts\u00e5 en liste med `n` elementer\n",
      "- Hvis vi ikke trenger l\u00f8kkevariablen i l\u00f8kken, kan vi bruke `_` (understrek) i steden for"
     ]
    },
    {
     "cell_type": "code",
     "collapsed": false,
     "input": [
      "sam.reset()\n",
      "for _ in range(4):\n",
      "    sam.forward(100)\n",
      "    sam.left(90)"
     ],
     "language": "python",
     "metadata": {},
     "outputs": [],
     "prompt_number": 5
    },
    {
     "cell_type": "markdown",
     "metadata": {},
     "source": [
      "- Hele programmet for tegning av to kvadrater blir da"
     ]
    },
    {
     "cell_type": "code",
     "collapsed": false,
     "input": [
      "sam.reset()\n",
      "\n",
      "for _ in range(4):\n",
      "    sam.forward(120)\n",
      "    sam.left(90)\n",
      "    \n",
      "sam.up()\n",
      "sam.forward(150)\n",
      "sam.down()\n",
      "\n",
      "for _ in range(4):\n",
      "    sam.forward(120)\n",
      "    sam.left(90)"
     ],
     "language": "python",
     "metadata": {},
     "outputs": [],
     "prompt_number": 6
    },
    {
     "cell_type": "markdown",
     "metadata": {},
     "source": [
      "#### Hva har vi oppn\u00e5dd? ####\n",
      "- koden er krympet fra \u00e5tte til tre linjer per kvadrat\n",
      "- programmet produserer samme resultat som f\u00f8r\n",
      "- vi m\u00e5 fortsatt gjenta koden for kvadratet for \u00e5 f\u00e5 to kvadrater\n",
      "\n",
      "### Utfordring ####\n",
      "Skriv en l\u00f8kke som lager f\u00f8lgende tegning. Tips: bruk l\u00f8kkevariablen i l\u00f8kken!"
     ]
    },
    {
     "cell_type": "code",
     "collapsed": false,
     "input": [
      "from IPython.display import Image ; Image(filename='Figures/spiral.png')"
     ],
     "language": "python",
     "metadata": {},
     "outputs": [
      {
       "metadata": {},
       "output_type": "pyout",
       "png": "[encoded data removed]",
       "prompt_number": 7,
       "text": [
        "<IPython.core.display.Image at 0x105a6a4d0>"
       ]
      }
     ],
     "prompt_number": 7
    },
    {
     "cell_type": "code",
     "collapsed": false,
     "input": [
      "sam.reset()\n",
      "for side in range(10):\n",
      "    sam.forward(20 * (side + 1))\n",
      "    sam.left(90)"
     ],
     "language": "python",
     "metadata": {},
     "outputs": [],
     "prompt_number": 9
    },
    {
     "cell_type": "markdown",
     "metadata": {},
     "source": [
      "### Andre skritt: arbeidspakker til gjenbruk ###\n",
      "\n",
      "Id\u00e9: Samle instruksjonen for tegning av et kvadrat i en \"arbeidspakke\", slik at de kan brukes hver gang vi tregner et kvadrat\n",
      "\n",
      "#### Arbeidspakker i Python: funksjoner ####\n",
      "\n",
      "- I Python (og de fleste andre programmeringsspr\u00e5k) heter slike arbeidspakker *funksjoner*\n",
      "- En funksjon er en samling instruksjoner som utf\u00f8res hver gang funksjonen *kalles* eller *utf\u00f8res*\n",
      "- En funksjon i Python er alts\u00e5 noe ganske annet enn en funksjon i matematikk\n",
      "- Vi m\u00e5 definere en funksjon f\u00f8r bruk:"
     ]
    },
    {
     "cell_type": "code",
     "collapsed": false,
     "input": [
      "def kvadrat():\n",
      "    for _ in range(4):\n",
      "        sam.forward(100)\n",
      "        sam.left(90)"
     ],
     "language": "python",
     "metadata": {},
     "outputs": [],
     "prompt_number": 10
    },
    {
     "cell_type": "markdown",
     "metadata": {},
     "source": [
      "- `def` forteller Python at vi skal definere en funksjon\n",
      "- `kvadrat` er funksjonens navn\n",
      "- `()` tilsier at vi ikke skal sende noen argumenter/informasjon til funksjonen\n",
      "- de tre innrykkede linjene er funksjonens kropp\n",
      "- de utf\u00f8res hver gang funksjonen kalles\n",
      "\n",
      "N\u00e5 kan vi bruke funksjonen slik:"
     ]
    },
    {
     "cell_type": "code",
     "collapsed": false,
     "input": [
      "sam.reset()\n",
      "\n",
      "kvadrat()\n",
      "\n",
      "sam.up()\n",
      "sam.forward(150)\n",
      "sam.down()\n",
      "\n",
      "kvadrat()"
     ],
     "language": "python",
     "metadata": {},
     "outputs": [],
     "prompt_number": 11
    },
    {
     "cell_type": "markdown",
     "metadata": {},
     "source": [
      "#### Hva har vi oppn\u00e5dd? ####\n",
      "\n",
      "- Vi har koden for \u00e5 tegne kvadratet bare ett sted\n",
      "- Vi trenger bare \u00e5 kalle `kvadrat()` for \u00e5 f\u00e5 tegnet et kvadrat---vi tregner ikke lenger tenke p\u00e5 hvordan det gj\u00f8res!\n",
      "\n",
      "### Utfordring ###\n",
      "\n",
      "Diskuter med naboen din hvordan vi kan tegne fire kvadrater p\u00e5 rad med kortest mulig kode!"
     ]
    },
    {
     "cell_type": "code",
     "collapsed": false,
     "input": [
      "sam.reset()\n",
      "sam.up()\n",
      "sam.goto(-200,0)\n",
      "sam.down()\n",
      "\n",
      "for _ in range(4):\n",
      "    kvadrat()\n",
      "    sam.up()\n",
      "    sam.forward(150)\n",
      "    sam.down()"
     ],
     "language": "python",
     "metadata": {},
     "outputs": [],
     "prompt_number": 12
    },
    {
     "cell_type": "markdown",
     "metadata": {},
     "source": [
      "### En mer fleksible l\u00f8sning ###\n",
      "\n",
      "- Problem: `kvadrat()` funksjonen virker bare for skilpadden `sam`:"
     ]
    },
    {
     "cell_type": "code",
     "collapsed": false,
     "input": [
      "sam.reset()  # fjern alt sam har tegnet\n",
      "del sam      # slett skilpadden sam\n",
      "\n",
      "alex = turtle.Turtle()  # skap ny skilpadde \n",
      "kvadrat()               # pr\u00f8v \u00e5 tegne kvadrat med alex"
     ],
     "language": "python",
     "metadata": {},
     "outputs": [
      {
       "ename": "NameError",
       "evalue": "global name 'sam' is not defined",
       "output_type": "pyerr",
       "traceback": [
        "\u001b[0;31m---------------------------------------------------------------------------\u001b[0m\n\u001b[0;31mNameError\u001b[0m                                 Traceback (most recent call last)",
        "\u001b[0;32m<ipython-input-13-45e2e3b97b10>\u001b[0m in \u001b[0;36m<module>\u001b[0;34m()\u001b[0m\n\u001b[1;32m      3\u001b[0m \u001b[0;34m\u001b[0m\u001b[0m\n\u001b[1;32m      4\u001b[0m \u001b[0malex\u001b[0m \u001b[0;34m=\u001b[0m \u001b[0mturtle\u001b[0m\u001b[0;34m.\u001b[0m\u001b[0mTurtle\u001b[0m\u001b[0;34m(\u001b[0m\u001b[0;34m)\u001b[0m  \u001b[0;31m# skap ny skilpadde\u001b[0m\u001b[0;34m\u001b[0m\u001b[0m\n\u001b[0;32m----> 5\u001b[0;31m \u001b[0mkvadrat\u001b[0m\u001b[0;34m(\u001b[0m\u001b[0;34m)\u001b[0m               \u001b[0;31m# pr\u00f8v \u00e5 tegne kvadrat med alex\u001b[0m\u001b[0;34m\u001b[0m\u001b[0m\n\u001b[0m",
        "\u001b[0;32m<ipython-input-10-e0e49ae975dd>\u001b[0m in \u001b[0;36mkvadrat\u001b[0;34m()\u001b[0m\n\u001b[1;32m      1\u001b[0m \u001b[0;32mdef\u001b[0m \u001b[0mkvadrat\u001b[0m\u001b[0;34m(\u001b[0m\u001b[0;34m)\u001b[0m\u001b[0;34m:\u001b[0m\u001b[0;34m\u001b[0m\u001b[0m\n\u001b[1;32m      2\u001b[0m     \u001b[0;32mfor\u001b[0m \u001b[0m_\u001b[0m \u001b[0;32min\u001b[0m \u001b[0mrange\u001b[0m\u001b[0;34m(\u001b[0m\u001b[0;36m4\u001b[0m\u001b[0;34m)\u001b[0m\u001b[0;34m:\u001b[0m\u001b[0;34m\u001b[0m\u001b[0m\n\u001b[0;32m----> 3\u001b[0;31m         \u001b[0msam\u001b[0m\u001b[0;34m.\u001b[0m\u001b[0mforward\u001b[0m\u001b[0;34m(\u001b[0m\u001b[0;36m100\u001b[0m\u001b[0;34m)\u001b[0m\u001b[0;34m\u001b[0m\u001b[0m\n\u001b[0m\u001b[1;32m      4\u001b[0m         \u001b[0msam\u001b[0m\u001b[0;34m.\u001b[0m\u001b[0mleft\u001b[0m\u001b[0;34m(\u001b[0m\u001b[0;36m90\u001b[0m\u001b[0;34m)\u001b[0m\u001b[0;34m\u001b[0m\u001b[0m\n",
        "\u001b[0;31mNameError\u001b[0m: global name 'sam' is not defined"
       ]
      }
     ],
     "prompt_number": 13
    },
    {
     "cell_type": "markdown",
     "metadata": {},
     "source": [
      "- Python vet ikke hva `sam` er for noe\n",
      "- Hvordan kan vi gj\u00f8re `kvadrat()` mer flexible?\n",
      "- Vi m\u00e5 *informere* `kvadrat()` om skilpadden som skal brukes\n",
      "\n",
      "$\\Rightarrow$ Vi m\u00e5 sende skilpadden som *argument* til `kvadrat()`"
     ]
    },
    {
     "cell_type": "code",
     "collapsed": false,
     "input": [
      "def kvadrat(padde):\n",
      "    for _ in range(4):\n",
      "        padde.forward(100)\n",
      "        padde.left(90)"
     ],
     "language": "python",
     "metadata": {},
     "outputs": [],
     "prompt_number": 14
    },
    {
     "cell_type": "code",
     "collapsed": false,
     "input": [
      "kvadrat(padde=alex)"
     ],
     "language": "python",
     "metadata": {},
     "outputs": [],
     "prompt_number": 15
    },
    {
     "cell_type": "markdown",
     "metadata": {},
     "source": [
      "#### Hva har vi gjort?\n",
      "\n",
      "- I definisjonen av `kvadrat()` funksjonen, er `padde` en *parameter*, eller *plassholder* for informasjon\n",
      "- N\u00e5r vi bruker funksjonen, oppgir vi en *verdi* for parameteren (et *argument*)\n",
      "- Vi kan ogs\u00e5 skrive det litt kortere ved bruk"
     ]
    },
    {
     "cell_type": "code",
     "collapsed": false,
     "input": [
      "alex.reset()\n",
      "kvadrat(alex)"
     ],
     "language": "python",
     "metadata": {},
     "outputs": [],
     "prompt_number": 16
    },
    {
     "cell_type": "markdown",
     "metadata": {},
     "source": [
      "Har vi to skilpadder, kan vi bruke de vekselvis"
     ]
    },
    {
     "cell_type": "code",
     "collapsed": false,
     "input": [
      "alex.reset()\n",
      "\n",
      "sam = turtle.Turtle()\n",
      "sam.color('red')\n",
      "sam.up()\n",
      "sam.forward(150)\n",
      "sam.down()\n",
      "\n",
      "kvadrat(alex)\n",
      "kvadrat(sam)"
     ],
     "language": "python",
     "metadata": {},
     "outputs": [],
     "prompt_number": 17
    },
    {
     "cell_type": "markdown",
     "metadata": {},
     "source": [
      "### Kan vi bli enda mer fleksible?\n",
      "\n",
      "- Hvordan kan vi velge sidelengden til kvadratet?\n",
      "- Vi m\u00e5 sende enda mer informasjon til funksjonen!\n",
      "\n",
      "$\\Rightarrow$ Vi m\u00e5 legge til en parameter til"
     ]
    },
    {
     "cell_type": "code",
     "collapsed": false,
     "input": [
      "def kvadrat(padde, sidelengde):\n",
      "    for _ in range(4):\n",
      "        padde.forward(sidelengde)\n",
      "        padde.left(90)"
     ],
     "language": "python",
     "metadata": {},
     "outputs": [],
     "prompt_number": 18
    },
    {
     "cell_type": "code",
     "collapsed": false,
     "input": [
      "alex.clear()  # slett bare tegningen, la padden uendret\n",
      "sam.clear()\n",
      "\n",
      "kvadrat(padde=alex, sidelengde=150)\n",
      "alex.right(60)\n",
      "kvadrat(alex, 200)\n",
      "kvadrat(sam, 50)"
     ],
     "language": "python",
     "metadata": {},
     "outputs": [],
     "prompt_number": 19
    },
    {
     "cell_type": "markdown",
     "metadata": {},
     "source": [
      "#### Utfordring\n",
      "\n",
      "Diskuter med naboen din hvordan vi kan endre `kvadrat()` funksjonen til en `polygon()` funksjon som kan tegne polygoner med like lange sider og like stor vinkler (alts\u00e5 trekant, firekant, femkant, ...)"
     ]
    },
    {
     "cell_type": "code",
     "collapsed": false,
     "input": [
      "from IPython.display import Image ; Image(filename='Figures/polygoner.png')"
     ],
     "language": "python",
     "metadata": {},
     "outputs": [
      {
       "metadata": {},
       "output_type": "pyout",
       "png": "[encoded data removed]",
       "prompt_number": 20,
       "text": [
        "<IPython.core.display.Image at 0x10649f4d0>"
       ]
      }
     ],
     "prompt_number": 20
    },
    {
     "cell_type": "code",
     "collapsed": false,
     "input": [
      "alex.reset()\n",
      "sam.reset()\n",
      "\n",
      "def polygon(padde, sider, lengde):\n",
      "    for side in range(sider):\n",
      "        padde.forward(lengde)\n",
      "        padde.left(360.0 / sider)\n",
      "\n",
      "for antall_sider in range(3, 9): \n",
      "    alex.color(0., 1 - 0.1 * antall_sider, 0.1 * antall_sider)\n",
      "    polygon(alex, antall_sider, 150)\n",
      "        "
     ],
     "language": "python",
     "metadata": {},
     "outputs": [],
     "prompt_number": 22
    },
    {
     "cell_type": "markdown",
     "metadata": {},
     "source": [
      "- Divisjon i Python: Vi m\u00e5 bruke `360.0 / sider`, ellers f\u00e5r vi heltallsdivisjon og polygonet blir ikke lukket hvis antall sider ikke deler 360."
     ]
    },
    {
     "cell_type": "markdown",
     "metadata": {},
     "source": [
      "* * *\n",
      "\n",
      "<a rel=\"license\" href=\"http://creativecommons.org/licenses/by-nc-sa/3.0/deed.no\"><img alt=\"Creative Commons-lisens\" style=\"border-width:0\" src=\"http://i.creativecommons.org/l/by-nc-sa/3.0/88x31.png\" /></a><br />Dette verk er lisensieret under en <a rel=\"license\" href=\"http://creativecommons.org/licenses/by-nc-sa/3.0/deed.no\">Creative Commons Navngivelse-Ikkekommersiell-DelP\u00e5SammeVilk\u00e5r 3.0 Unported lisens</a>.\n",
      "\n",
      "* * *"
     ]
    }
   ],
   "metadata": {}
  }
 ]
}