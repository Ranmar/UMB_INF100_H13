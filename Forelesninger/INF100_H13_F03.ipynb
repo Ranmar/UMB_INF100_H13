{
 "metadata": {
  "name": ""
 },
 "nbformat": 3,
 "nbformat_minor": 0,
 "worksheets": [
  {
   "cells": [
    {
     "cell_type": "markdown",
     "metadata": {},
     "source": [
      "# INF100: Forelesning nr 3 #\n",
      "### 19. september 2013 ###\n",
      "\n",
      "* * *\n",
      "\n",
      "## Obligatoriske innleveringer ##\n",
      "\n",
      "- Fristen for innlevering av obligatorisk innlevering 1 utsettes til **27.09.2013 kl 12.00**\n",
      "- Fristen for innlevering av obligatorisk innlevering 2 er uendret **04.10.2013 kl 12.00**\n",
      "- Notebooken til obligatorisk innlevering 2 finnes i arkivet under Obliger, p\u00e5 [NBViewer](http://nbviewer.ipython.org/urls/raw.github.com/heplesser/UMB_INF100_H13/master/Obliger/INF100_H13_Oblig2.ipynb) og p\u00e5 innleveringssiden p\u00e5 Fronter.\n",
      "\n",
      "## Kort om tekniske problemer ##\n",
      "\n",
      "- Nedlasting av Notebooks: last ned arkivet med \"Download ZIP\" knappen [i Github arkivet](https://github.com/heplesser/UMB_INF100_H13)\n",
      "- Hovedtilbudet er maskinene p\u00e5 datasalene\n",
      "- Bruk av egne datamaskiner\n",
      "    - meget \u00f8nskelig\n",
      "    - mye kan g\u00e5 galt med 200+ forskjellige maskiner\n",
      "    - vi pr\u00f8ver \u00e5 hjelpe s\u00e5 godt vi kan, men oppsett p\u00e5 egen maskin er **tilleggstilbud**\n",
      "    - bruk maskinene p\u00e5 datasalene ved problemer\n",
      "- P\u00e5 datasal\n",
      "    - M\u00e5 bruke Firefox, Internet Explorer er utdatert ([Veiledning](https://github.com/heplesser/UMB_INF100_H13/issues/3))\n",
      "    - Python oppdatert sist fredag\n",
      "- Windows\n",
      "    - brukernavnet m\u00e5 **ikke inneholde s\u00e6rbokstaver**\n",
      "    - l\u00f8sning: opprett ny bruker p\u00e5 maskinen din\n",
      "    - Se [denne saken](https://github.com/heplesser/UMB_INF100_H13/issues/13) hvis du f\u00e5r  f\u00f8lgende feilmelding\n",
      "\n",
      "          File \"C:\\Anaconda\\lib\\site-packages\\matplotlib\\font_manager.py\", line 398, in ttfFontProperty\n",
      "          sfnt4 = sfnt4.decode('ascii').lower()\n",
      "          UnicodeDecodeError: 'ascii' codec can't decode byte 0xc6 in position 0: ordinal not in range(128)    \n",
      "- Mac\n",
      "    - Se [denne veiledningen](https://github.com/heplesser/UMB_INF100_H13/issues/2)\n",
      "    - Se ogs\u00e5 [veiledning p\u00e5 Anacondas nettside](http://docs.continuum.io/anaconda/install.html)\n",
      "    - Du m\u00e5 installere [XQuartz](http://xquartz.macosforge.org) for \u00e5 bruke Turtle (vanlig Mac pakke, logg ut og inn igjen etter installering)\n",
      "\n",
      "* * *"
     ]
    },
    {
     "cell_type": "heading",
     "level": 1,
     "metadata": {},
     "source": [
      "Repetisjon"
     ]
    },
    {
     "cell_type": "markdown",
     "metadata": {},
     "source": [
      "## Grunntanker ##\n",
      "\n",
      "Kode blir \n",
      "\n",
      "- kortere\n",
      "- mer lesbart\n",
      "- mer fleksibelt\n",
      "\n",
      "ved bruk av\n",
      "\n",
      "- *l\u00f8kker* for gjentakelse av repeterende instruksjoner\n",
      "- *funkjsoner* for delegasjon av arbeidsoppgaver\n",
      "\n",
      "### Eksempel: Original kode ###"
     ]
    },
    {
     "cell_type": "markdown",
     "metadata": {},
     "source": [
      "#### Viktig \n",
      "- Legg `import turtle` linjen i en egen celle.\n",
      "- Legg linjer som oppretter skilpadder i egne celler.\n",
      "Ellers risikerer du \u00e5 lage mange \"zombie skilpadder\" som vises p\u00e5 skjermen men som du ikke lenger kan styre."
     ]
    },
    {
     "cell_type": "code",
     "collapsed": false,
     "input": [
      "import turtle"
     ],
     "language": "python",
     "metadata": {},
     "outputs": [],
     "prompt_number": 1
    },
    {
     "cell_type": "code",
     "collapsed": false,
     "input": [
      "sam = turtle.Turtle()"
     ],
     "language": "python",
     "metadata": {},
     "outputs": [],
     "prompt_number": 2
    },
    {
     "cell_type": "code",
     "collapsed": false,
     "input": [
      "# kvadrat nummer en\n",
      "sam.forward(100)\n",
      "sam.left(90)\n",
      "sam.forward(100)\n",
      "sam.left(90)\n",
      "sam.forward(100)\n",
      "sam.left(90)\n",
      "sam.forward(100)\n",
      "sam.left(90)\n",
      "\n",
      "# flytt til start for neste kvadrat\n",
      "sam.up()\n",
      "sam.forward(150)\n",
      "sam.down()\n",
      "\n",
      "# kvadrat nummer to\n",
      "sam.forward(100)\n",
      "sam.left(90)\n",
      "sam.forward(100)\n",
      "sam.left(90)\n",
      "sam.forward(100)\n",
      "sam.left(90)\n",
      "sam.forward(100)\n",
      "sam.left(90)"
     ],
     "language": "python",
     "metadata": {},
     "outputs": [],
     "prompt_number": 3
    },
    {
     "cell_type": "markdown",
     "metadata": {},
     "source": [
      "### Forkortet ved hjelp av l\u00f8kker"
     ]
    },
    {
     "cell_type": "code",
     "collapsed": false,
     "input": [
      "sam.reset()\n",
      "\n",
      "for sider_igjen in range(4):\n",
      "    sam.forward(100)\n",
      "    sam.left(90)\n",
      "    \n",
      "sam.up()\n",
      "sam.forward(150)\n",
      "sam.down()\n",
      "\n",
      "for sider_igjen in range(4):\n",
      "    sam.forward(100)\n",
      "    sam.left(90)"
     ],
     "language": "python",
     "metadata": {},
     "outputs": [],
     "prompt_number": 4
    },
    {
     "cell_type": "markdown",
     "metadata": {},
     "source": [
      "**Husk:** `range(4)` gir en liste med tallene `[0, 1, 2, 3]`\n",
      "\n",
      "### Forenkling ved hjelp av funksjon"
     ]
    },
    {
     "cell_type": "code",
     "collapsed": false,
     "input": [
      "def kvadrat():\n",
      "    for sider_igjen in range(4):\n",
      "        sam.forward(100)\n",
      "        sam.left(90)\n",
      "        \n",
      "sam.reset()\n",
      "\n",
      "kvadrat()\n",
      "\n",
      "sam.up()\n",
      "sam.forward(150)\n",
      "sam.down()\n",
      "\n",
      "kvadrat()"
     ],
     "language": "python",
     "metadata": {},
     "outputs": [],
     "prompt_number": 5
    },
    {
     "cell_type": "markdown",
     "metadata": {},
     "source": [
      "#### Husk\n",
      "- `def` forteller Python at vi skal definere en funksjon\n",
      "- `kvadrat` er funksjonens navn\n",
      "- `()` tilsier at vi ikke skal sende noen argumenter/informasjon til funksjonen\n",
      "- de tre innrykkede linjene er funksjonens kropp\n",
      "- de utf\u00f8res hver gang funksjonen kalles\n",
      "\n",
      "### Fleksiblere l\u00f8sning med funksjon med argumenter\n"
     ]
    },
    {
     "cell_type": "code",
     "collapsed": false,
     "input": [
      "def kvadrat(padde, sidelengde):\n",
      "    for sider_igjen in range(4):\n",
      "        padde.forward(sidelengde)\n",
      "        padde.left(90)\n",
      "      \n",
      "sam.reset()\n",
      "alex = turtle.Turtle()\n",
      "alex.color('red')\n",
      "\n",
      "kvadrat(padde=alex, sidelengde=150)\n",
      "alex.right(60)\n",
      "kvadrat(alex, 200)\n",
      "kvadrat(sam, 50)"
     ],
     "language": "python",
     "metadata": {},
     "outputs": [],
     "prompt_number": 6
    },
    {
     "cell_type": "markdown",
     "metadata": {},
     "source": [
      "- `kvadrat()` tar n\u00e5 imot informasjon gjennom argumenter\n",
      "- vi kan velge hvilken skilpadde skal tegne og hvor stort kvadratet skal v\u00e6re\n",
      "\n",
      "### Det opprinnelige programmet med den siste versjonen av funksjonen"
     ]
    },
    {
     "cell_type": "code",
     "collapsed": false,
     "input": [
      "sam.reset()\n",
      "alex.reset()\n",
      "\n",
      "kvadrat(sam, 100)\n",
      "\n",
      "sam.up()\n",
      "sam.forward(150)\n",
      "sam.down()\n",
      "\n",
      "kvadrat(sam, 100)"
     ],
     "language": "python",
     "metadata": {},
     "outputs": [],
     "prompt_number": 7
    },
    {
     "cell_type": "markdown",
     "metadata": {},
     "source": [
      "#### Refactoring\n",
      "\n",
      "\u00c5 ta et program som virker og forenkler eller forbedrer koden *uten at programmets funksjon endres* kalles **[Refactoring](http://en.wikipedia.org/wiki/Code_refactoring)**. Det er en viktig teknikk innen programvareutvikling."
     ]
    },
    {
     "cell_type": "markdown",
     "metadata": {},
     "source": [
      "### Enda mer fleksibelt: Polygoner"
     ]
    },
    {
     "cell_type": "code",
     "collapsed": false,
     "input": [
      "alex.reset()\n",
      "sam.reset()\n",
      "\n",
      "def polygon(padde, sider, lengde):\n",
      "    for side in range(sider):\n",
      "        padde.forward(lengde)\n",
      "        padde.left(360.0 / sider)\n",
      "\n",
      "alex.width(5)\n",
      "for antall_sider in range(3, 9): \n",
      "    alex.color(1 - 0.1 * antall_sider, 0.1 * antall_sider, 0)\n",
      "    polygon(alex, antall_sider, 150)"
     ],
     "language": "python",
     "metadata": {},
     "outputs": [],
     "prompt_number": 8
    },
    {
     "cell_type": "markdown",
     "metadata": {},
     "source": [
      "#### Husk\n",
      "- Heltallsdivision i Python 2 er *divisjon uten rest eller desimaler*\n",
      "- Enten dividend eller divisor m\u00e5 v\u00e6re desimalbr\u00f8k for \u00e5 f\u00e5 resultat som desimalbr\u00f8k"
     ]
    },
    {
     "cell_type": "code",
     "collapsed": false,
     "input": [
      "print \"360   / 11   -> \", 360   / 11\n",
      "print \"360.0 / 11   -> \", 360.0 / 11\n",
      "print \"360   / 11.0 -> \", 360   / 11.0\n",
      "print \"360.0 / 11.0 -> \", 360.0 / 11.0"
     ],
     "language": "python",
     "metadata": {},
     "outputs": [
      {
       "output_type": "stream",
       "stream": "stdout",
       "text": [
        "360   / 11   ->  32\n",
        "360.0 / 11   ->  32.7272727273\n",
        "360   / 11.0 ->  32.7272727273\n",
        "360.0 / 11.0 ->  32.7272727273\n"
       ]
      }
     ],
     "prompt_number": 9
    },
    {
     "cell_type": "markdown",
     "metadata": {},
     "source": [
      "* * *\n",
      "* * *\n",
      "## *Repetisjon slutt*\n",
      "* * *\n",
      "* * *"
     ]
    },
    {
     "cell_type": "markdown",
     "metadata": {},
     "source": [
      "## Forgreinger: hva skal jeg gj\u00f8re hvis ...?\n",
      "\n",
      "- Gitt et tall $x$, skal vi skrive ut $1/x$\n",
      "- Problem: hva gj\u00f8r vi hvis $x=0$?\n",
      "- Forslag: da gj\u00f8r vi ingenting\n",
      "- I Python kan vi skrive det slikt"
     ]
    },
    {
     "cell_type": "code",
     "collapsed": false,
     "input": [
      "x = 10\n",
      "if not x == 0:\n",
      "    print 1.0 / x"
     ],
     "language": "python",
     "metadata": {},
     "outputs": [
      {
       "output_type": "stream",
       "stream": "stdout",
       "text": [
        "0.1\n"
       ]
      }
     ],
     "prompt_number": 10
    },
    {
     "cell_type": "markdown",
     "metadata": {},
     "source": [
      "**Tipps:** Bytt ut `x = 10` med `x = 0` p\u00e5 f\u00f8rste linjen i cellen over og se hva som skjer."
     ]
    },
    {
     "cell_type": "markdown",
     "metadata": {},
     "source": [
      "#### Hva har vi gjort?\n",
      "- Vi har laget en *forgreining*\n",
      "- Linjen som begynner med `if` inneholder en *betingelse*\n",
      "- Den innrykkede koden utf\u00f8res bare hvis betingelsen er oppfylt\n",
      "- **NB:** Dobbelte *vs* enkelte likhetstegn\n",
      "    - Enkelt likhetstegn brukes for \u00e5 lagre en verdi: `x = 10` lagrer 10 under navnet `x`\n",
      "    - Dobbelt likhetstegn brukes for \u00e5 sammenlikne verdier: `x == 0` tester om `x` har verdien 0 \n",
      "\n",
      "#### Kan vi gi en feilmelding for $x=0$?\n",
      "- Vi kan legge til en *ellers*  del til forgreiningen"
     ]
    },
    {
     "cell_type": "code",
     "collapsed": false,
     "input": [
      "x = 0\n",
      "if not x == 0:\n",
      "    print 1. / x\n",
      "else:\n",
      "    print \"1 / 0 er ikke definert.\""
     ],
     "language": "python",
     "metadata": {},
     "outputs": [
      {
       "output_type": "stream",
       "stream": "stdout",
       "text": [
        "1 / 0 er ikke definert.\n"
       ]
      }
     ],
     "prompt_number": 11
    },
    {
     "cell_type": "markdown",
     "metadata": {},
     "source": [
      "**Tipps:** Bytt ut `x = 10` med `x = 0` p\u00e5 f\u00f8rste linjen i cellen over og se hva som skjer."
     ]
    },
    {
     "cell_type": "markdown",
     "metadata": {},
     "source": [
      "#### Hva skjer etter forgreiningen?\n",
      "\n",
      "- Koden som kommer etter forgreiningen (ikke innrykket) utf\u00f8res uansett om vi f\u00f8lger *hvis* (`if`) eller *ellers* (`else`) grenen"
     ]
    },
    {
     "cell_type": "code",
     "collapsed": false,
     "input": [
      "x = 0\n",
      "if not x == 0:\n",
      "    print 1. / x\n",
      "else:\n",
      "    print \"1 / 0 er ikke definert.\"\n",
      "    print \"Pr\u00f8v med et annet tall\"\n",
      "print \"----------------------\""
     ],
     "language": "python",
     "metadata": {},
     "outputs": [
      {
       "output_type": "stream",
       "stream": "stdout",
       "text": [
        "1 / 0 er ikke definert.\n",
        "Pr\u00f8v med et annet tall\n",
        "----------------------\n"
       ]
      }
     ],
     "prompt_number": 12
    },
    {
     "cell_type": "markdown",
     "metadata": {},
     "source": [
      "### Forgreininger kan v\u00e6re nyttig i l\u00f8kker"
     ]
    },
    {
     "cell_type": "code",
     "collapsed": false,
     "input": [
      "for x in [-5, 3, 0, 2, 8, 0]:\n",
      "    if not x == 0:\n",
      "        print 1. / x\n",
      "    else:\n",
      "        print \"Udefinert\""
     ],
     "language": "python",
     "metadata": {},
     "outputs": [
      {
       "output_type": "stream",
       "stream": "stdout",
       "text": [
        "-0.2\n",
        "0.333333333333\n",
        "Udefinert\n",
        "0.5\n",
        "0.125\n",
        "Udefinert\n"
       ]
      }
     ],
     "prompt_number": 13
    },
    {
     "cell_type": "markdown",
     "metadata": {},
     "source": [
      "* * *\n",
      "\n",
      "## Gj\u00f8r litt selv, deleger resten: Rekursive funksjoner\n",
      "\n",
      "- I `kvadrat()` funksjonen lager \u00e9n l\u00f8kke hele tegningen\n",
      "- Alternativ l\u00f8sning:\n",
      "    - gj\u00f8r litt selv (tegne en side)\n",
      "    - deleger resten av kvadratet\n",
      "I Python kan vi gj\u00f8re det slik:"
     ]
    },
    {
     "cell_type": "code",
     "collapsed": false,
     "input": [
      "turtle.clearscreen()   # sletter alt som var tegnet og fjerner alle skilpadder\n",
      "sam = turtle.Turtle()  # en ny sam"
     ],
     "language": "python",
     "metadata": {},
     "outputs": [],
     "prompt_number": 14
    },
    {
     "cell_type": "code",
     "collapsed": false,
     "input": [
      "def kvadrat_rek(padde, sider_som_skal_tegnes):\n",
      "\n",
      "    padde.forward(100)\n",
      "    padde.left(90)\n",
      "    if sider_som_skal_tegnes > 1:\n",
      "        kvadrat_rek(padde, sider_som_skal_tegnes - 1)\n",
      "        \n",
      "sam.reset()\n",
      "kvadrat_rek(sam, 4)"
     ],
     "language": "python",
     "metadata": {},
     "outputs": [],
     "prompt_number": 15
    },
    {
     "cell_type": "markdown",
     "metadata": {},
     "source": [
      "#### Hva har vi gjort?\n",
      "- `kvadrat_rek()` er en *rekursiv funksjon*, en funksjon som *kaller seg selv*\n",
      "- Hvert oppdrag som delegeres nedover m\u00e5 v\u00e6re \"mindre\" enn det aktuelle oppdraget\n",
      "- Deleringen nedover m\u00e5 ende et sted\n",
      "    - Vi delegerer bare videre hvis `sider_som_skal_tegnes > 1`\n",
      "    - Ved delegeringen blir det nye oppdraget \u00e5 tegne `sider_som_skal_tegnes - 1` sider\n",
      "    - $\\Rightarrow$ f\u00f8r eller senere gir vi oppdrag der `sider_som_skal_tegnes` er lik 1\n",
      "    - $\\Rightarrow$ da delegerer vi ikke videre\n",
      "- **NB** \n",
      "    - L\u00f8kker kan altid erstattes med rekursjon og omvendt. \n",
      "    - Noen programmeringsspr\u00e5k har bare rekursjon, ikke l\u00f8kker; f eks [Lisp](http://bit.ly/15Py5ck)\n",
      "    - [Rekursjon](http://bit.ly/18SwZrt) er et sentralt konsept i informatikk"
     ]
    },
    {
     "cell_type": "markdown",
     "metadata": {},
     "source": [
      "#### Aktivitet\n",
      "I grupper av fire, tegn kvadrat ved delegering. Bruk utdelt skjema for \"arbeidsoppdrag\"!\n",
      "\n",
      "#### Visualisering med [Online Python Tutor](http://www.pythontutor.com)\n",
      "- I den neste cellen kj\u00f8rer vi en litt forenklet versjon av `kvadrat_rek()` \n",
      "- Ved \u00e5 klikke p\u00e5 \"Forward\" knappen, kan vi se skritt for skritt hvordan arbeidsoppdrag delegeres\n",
      "- Oline Python Tutor \"kan ikke\" `turtle`, derfor tegner vi bare linjer"
     ]
    },
    {
     "cell_type": "code",
     "collapsed": false,
     "input": [
      "from IPython.display import HTML\n",
      "HTML('<iframe width=\"800\" height=\"500\" frameborder=\"0\" src=\"http://pythontutor.com/iframe-embed.html#code=def+tegne(linjer)%3A%0A++++print+%22******%22%0A++++if+linjer+%3E+1%3A%0A++++++++tegne(linjer-1)%0A++++++++%0Ategne(4)%0A++++++++&cumulative=true&heapPrimitives=false&drawParentPointers=false&textReferences=false&showOnlyOutputs=false&py=2&curInstr=0&codeDivWidth=350&codeDivHeight=400\"> </iframe>`')"
     ],
     "language": "python",
     "metadata": {},
     "outputs": [
      {
       "html": [
        "<iframe width=\"800\" height=\"500\" frameborder=\"0\" src=\"http://pythontutor.com/iframe-embed.html#code=def+tegne(linjer)%3A%0A++++print+%22******%22%0A++++if+linjer+%3E+1%3A%0A++++++++tegne(linjer-1)%0A++++++++%0Ategne(4)%0A++++++++&cumulative=true&heapPrimitives=false&drawParentPointers=false&textReferences=false&showOnlyOutputs=false&py=2&curInstr=0&codeDivWidth=350&codeDivHeight=400\"> </iframe>`"
       ],
       "metadata": {},
       "output_type": "pyout",
       "prompt_number": 16,
       "text": [
        "<IPython.core.display.HTML at 0x106306d90>"
       ]
      }
     ],
     "prompt_number": 16
    },
    {
     "cell_type": "markdown",
     "metadata": {},
     "source": [
      "* * *\n",
      "\n",
      "## Sn\u00f8fnugg\n",
      "- Vi kan tegne spennende figurer med rekursive funksjoner\n",
      "- F\u00f8lgende funksjon tegner [Kochs sn\u00f8fnugg](http://en.wikipedia.org/wiki/Koch_snowflake)\n",
      "- Etter den svenske matematikeren Helge von Koch"
     ]
    },
    {
     "cell_type": "code",
     "collapsed": false,
     "input": [
      "def snowflake(padde, depth):\n",
      "    if depth == 0:\n",
      "        padde.forward(10)\n",
      "    else:\n",
      "        snowflake(padde, depth-1)\n",
      "        padde.left(60)\n",
      "        snowflake(padde, depth-1)\n",
      "        padde.right(60)\n",
      "        padde.right(60)\n",
      "        snowflake(padde, depth-1)\n",
      "        padde.left(60)\n",
      "        snowflake(padde, depth-1)"
     ],
     "language": "python",
     "metadata": {},
     "outputs": [],
     "prompt_number": 17
    },
    {
     "cell_type": "markdown",
     "metadata": {},
     "source": [
      "#### Aktivitet\n",
      "- Sammen med din nabo, tegn opp resultatene av f\u00f8lgende kj\u00f8ringer med papir og blyant:\n",
      "    - `snowflake(sam, 0)`\n",
      "    - `snowflake(sam, 1)`\n",
      "    - `snowflake(sam, 2)`"
     ]
    },
    {
     "cell_type": "code",
     "collapsed": false,
     "input": [
      "sam.reset()\n",
      "sam.speed('fastest')\n",
      "snowflake(sam, 2)"
     ],
     "language": "python",
     "metadata": {},
     "outputs": [],
     "prompt_number": 18
    },
    {
     "cell_type": "markdown",
     "metadata": {},
     "source": [
      "* * *\n",
      "\n",
      "## [L-systemer](http://en.wikipedia.org/wiki/L-system)\n",
      "- Ogs\u00e5 kjent som Lindenmayersystemer etter biologen [Aristid Lindenmayer](http://en.wikipedia.org/wiki/Aristid_Lindenmayer)\n",
      "- Kan bl a brukes til \u00e5 beskrive planter, men ogs\u00e5 andre m\u00f8nster\n",
      "- Se boken [Algorithmic botany](http://algorithmicbotany.org/papers/#abop)\n",
      "- Har ogs\u00e5 dype forbindelser med spr\u00e5kteori og teoretisk informatikk [rewrite systems](http://en.wikipedia.org/wiki/Rewriting)\n",
      "\n",
      "### L-systemers oppbygging\n",
      "|Komponent||Eksempel|\n",
      "|-|-|\n",
      "|*Produksjonsregel*|Regel for erstatning av symboler|$F\\longrightarrow F+F--F+F$|\n",
      "|*Start*|Ett eller flere symboler \u00e5 begynne med|$F$|\n",
      "|*Variabler*|Symboler som kan erstattes|$F\\leftrightarrow$ `forward(10)` |\n",
      "|*Konstanter*|Symboler som ikke erstattes|$+\\leftrightarrow$ `left(60)`, $-\\leftrightarrow$ `right(60)` |\n",
      "\n",
      "NB: Produksjonsregelen i eksempelet representerer Kochs sn\u00f8fnugg.\n",
      "\n",
      "### Hvordan anvender man L-systemer?\n",
      "\n",
      "1. Sett sekvensen $S$ til *Start*\n",
      "1. I $S$, erstatt hvert symbol fra alfabetet iht produksjonsregelen\n",
      "1. Fortsett med 2 inntil det \u00f8nskete antall \"runder\" er n\u00e5dd\n",
      "\n",
      "#### Eksempel: Kochs sn\u00f8fnugg($F\\longrightarrow F+F--F+F$)\n",
      "1. $S = F$\n",
      "1. $S = \\color{blue}{F} + \\color{red}{F} -- \\color{purple}{F} + \\color{green}{F}$\n",
      "1. $S = \\color{blue}{F + F -- F + F} + \\color{red}{F + F -- F + F} -- \\color{purple}{F + F -- F + F} + \\color{green}{F + F -- F + F}$\n",
      "Vi kan n\u00e5 tegne kurven ved \u00e5 utf\u00f8re instruksjonen p\u00e5 siste linje fra venstre til h\u00f8yre.\n",
      "\n",
      "### Hvordan henger L-system og rekursiv funksjon sammen?\n",
      "- Produksjonsregelen beskriver rekursjonen\n",
      "- I starten m\u00e5 vi angi hvor ofte vi vil anvende produksjonsregelen.\n",
      "- Vi sier vi skal ha en viss rekursjons*dybde*, eller `depth`\n",
      "- N\u00e5r vi anvender regelen (stiger ned i rekursjon), reduserer vi `depth` med 1\n",
      "- N\u00e5r vi har kommet til dybde 0\n",
      "    - anvender vi ikke produksjonsregelen mer\n",
      "    - men utf\u00f8rer tegnekommandoen $F$ st\u00e5r for"
     ]
    },
    {
     "cell_type": "code",
     "collapsed": false,
     "input": [
      "def snowflake(padde, depth):\n",
      "    if depth == 0:\n",
      "        padde.forward(10)          # utf\u00f8r F\n",
      "    else:                          # F ->\n",
      "        snowflake(padde, depth-1)  #      F\n",
      "        padde.left(60)             #        +\n",
      "        snowflake(padde, depth-1)  #          F\n",
      "        padde.right(60)            #            -\n",
      "        padde.right(60)            #              -  \n",
      "        snowflake(padde, depth-1)  #                F\n",
      "        padde.left(60)             #                  +\n",
      "        snowflake(padde, depth-1)  #                    F"
     ],
     "language": "python",
     "metadata": {},
     "outputs": [],
     "prompt_number": 19
    },
    {
     "cell_type": "markdown",
     "metadata": {},
     "source": [
      "### Et L-System med to regler: [Dragekurven](http://en.wikipedia.org/wiki/Dragon_curve)\n",
      "\n",
      "|Variabler|Konstanter|Vinkel|Start|Produksjonsregler|\n",
      "|-|-|-|-|-|\n",
      "|$X, Y$|$F, +, -$|$90^{\\circ}$|$FX$|$$\\begin{align}X&\\rightarrow X+YF\\\\Y &\\rightarrow FX-Y\\end{align}$$|\n",
      "\n",
      "- $+$ og $-$ st\u00e5r for rotasjon til venstre og h\u00f8yre, $F$ for bevegelse framover.\n",
      "- $X$ og $Y$ er variabler og erstattes iht produksjonsregelen\n",
      "- $F$ er en konstant som ikke erstattes\n",
      "- De f\u00f8rste tre skritt for Dragekurven blir da\n",
      "    1. $S = F X$\n",
      "    1. $S = F\\color{blue}{X} + \\color{red}{Y} F$\n",
      "    1. $S = F \\color{blue}{X + Y F} + \\color{red}{F X - Y} F$\n",
      "- I Dragekurven st\u00e5r $X$ og $Y$ ikke for noen tegneoperasjoner. \n",
      "- $\\Rightarrow$ For \u00e5 tegne kurven fra linje 3, dropper vi $X$ og $Y$ og f\u00e5r $F + F + F - F$\n",
      "- I Python trenger vi tre funksjoner for dragekurven:\n",
      "    - en for startregelen\n",
      "    - en for $X$-regelen\n",
      "    - en for $Y$-regelen\n",
      "- Siden $X$ og $Y$ ikke st\u00e5r for noen tegneoperasjoner, gj\u00f8r vi ingenting p\u00e5 dybde 0."
     ]
    },
    {
     "cell_type": "code",
     "collapsed": false,
     "input": [
      "def dragon(padde, depth):\n",
      "    padde.forward(10)             # F\n",
      "    dragonX(padde, depth-1)       # X\n",
      "    \n",
      "def dragonX(padde, depth):\n",
      "    if depth > 0:                 # X ->\n",
      "        dragonX(padde, depth-1)   #       X         \n",
      "        padde.left(90)            #         +\n",
      "        dragonY(padde, depth-1)   #           Y\n",
      "        padde.forward(10)         #             F\n",
      "        \n",
      "def dragonY(padde, depth):\n",
      "    if depth > 0:                 # Y ->\n",
      "        padde.forward(10)         #       F\n",
      "        dragonX(padde, depth-1)   #         X\n",
      "        padde.right(90)           #           -\n",
      "        dragonY(padde, depth-1)   #             Y"
     ],
     "language": "python",
     "metadata": {},
     "outputs": [],
     "prompt_number": 20
    },
    {
     "cell_type": "markdown",
     "metadata": {},
     "source": [
      "### N\u00e5 tegner vi med litt fart"
     ]
    },
    {
     "cell_type": "code",
     "collapsed": false,
     "input": [
      "turtle.clearscreen()   # sletter alt, inkl padden\n",
      "sam = turtle.Turtle()  # ny padde\n",
      "sam.hideturtle()       # fjern mark\u00f8ren \n",
      "sam.speed('fastest')   # h\u00f8yest hastighet\n",
      "dragon(sam, 1)"
     ],
     "language": "python",
     "metadata": {},
     "outputs": [],
     "prompt_number": 21
    },
    {
     "cell_type": "markdown",
     "metadata": {},
     "source": [
      "**Tipps:** \u00d8k dybden p\u00e5 den siste linjen fra 1 til st\u00f8rre tall (ikke for store, pr\u00f8v deg frem)! Du m\u00e5 kanskje redusere linjelengden i funskjonsdefinisjonene oppe!"
     ]
    },
    {
     "cell_type": "markdown",
     "metadata": {},
     "source": [
      "* * *\n",
      "\n",
      "<a rel=\"license\" href=\"http://creativecommons.org/licenses/by-nc-sa/3.0/deed.no\"><img alt=\"Creative Commons-lisens\" style=\"border-width:0\" src=\"http://i.creativecommons.org/l/by-nc-sa/3.0/88x31.png\" /></a><br />Dette verk er lisensieret under en <a rel=\"license\" href=\"http://creativecommons.org/licenses/by-nc-sa/3.0/deed.no\">Creative Commons Navngivelse-Ikkekommersiell-DelP\u00e5SammeVilk\u00e5r 3.0 Unported lisens</a>.\n",
      "\n",
      "* * *"
     ]
    }
   ],
   "metadata": {}
  }
 ]
}